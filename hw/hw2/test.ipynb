{
 "cells": [
  {
   "cell_type": "code",
   "execution_count": 2,
   "metadata": {},
   "outputs": [
    {
     "name": "stdout",
     "output_type": "stream",
     "text": [
      "c:\\Users\\cayde\\Desktop\\Grad_School_stuff\\DataBaseManagement\\hw\\hw2\n"
     ]
    }
   ],
   "source": [
    "# print cwd\n",
    "import os\n",
    "print(os.getcwd())"
   ]
  },
  {
   "cell_type": "code",
   "execution_count": 3,
   "metadata": {},
   "outputs": [
    {
     "name": "stdout",
     "output_type": "stream",
     "text": [
      "root\n",
      " |-- customer_id: integer (nullable = true)\n",
      " |-- name: string (nullable = true)\n",
      " |-- city: string (nullable = true)\n",
      " |-- state: string (nullable = true)\n",
      " |-- zip_code: string (nullable = true)\n",
      "\n"
     ]
    }
   ],
   "source": [
    "from pyspark.sql import SparkSession\n",
    "from pyspark.sql.types import StructType, StructField, IntegerType, StringType\n",
    "\n",
    "# Create a SparkSession\n",
    "spark = SparkSession.builder.appName(\"example\").getOrCreate()\n",
    "\n",
    "# Define the schema for the DataFrame\n",
    "schema = StructType([\n",
    "    StructField(\"customer_id\", IntegerType(), True),\n",
    "    StructField(\"name\", StringType(), True),\n",
    "    StructField(\"city\", StringType(), True),\n",
    "    StructField(\"state\", StringType(), True),\n",
    "    StructField(\"zip_code\", StringType(), True)\n",
    "])\n",
    "\n",
    "# Create a list of tuples containing the data\n",
    "data = [\n",
    "    (100, \"John Smith\", \"Austin\", \"TX\", \"78727\"),\n",
    "    (200, \"Joe Johnson\", \"Dallas\", \"TX\", \"75201\"),\n",
    "    (300, \"Bob Jones\", \"Houston\", \"TX\", \"77028\"),\n",
    "    (400, \"Andy Davis\", \"San Antonio\", \"TX\", \"78227\"),\n",
    "    (500, \"James Williams\", \"Austin\", \"TX\", \"78727\")\n",
    "]\n",
    "\n",
    "# Create the DataFrame\n",
    "df = spark.createDataFrame(data, schema=schema)\n",
    "\n",
    "df.printSchema()\n"
   ]
  },
  {
   "cell_type": "code",
   "execution_count": null,
   "metadata": {},
   "outputs": [],
   "source": [
    "from pyspark.sql import SparkSession, Row\n",
    "\n",
    "# Create a SparkSession\n",
    "spark = SparkSession.builder.appName(\"example\").getOrCreate()\n",
    "\n",
    "# Define a function to parse the input lines\n",
    "def parse_input(line):\n",
    "    fields = line.split(',')\n",
    "    return Row(customer_id=int(fields[0]), name=fields[1], city=fields[2], state=fields[3], zip_code=fields[4])\n",
    "\n",
    "# Load the text file and convert each line to a Row. here is path to file C:\\Users\\cayde\\Desktop\\Grad_School_stuff\\DataBaseManagement\\hw\\hw2\\sparktest.txt\n",
    "lines = spark.sparkContext.textFile(r\"C:\\Users\\cayde\\Desktop\\Grad_School_stuff\\DataBaseManagement\\hw\\hw2\\sparktest.txt\")\n",
    "customers = lines.map(parse_input)\n",
    "\n",
    "# Infer the schema, and register the DataFrame as a table.\n",
    "dfCustomers = spark.createDataFrame(customers)\n",
    "dfCustomers.createOrReplaceTempView(\"customers\")\n",
    "\n",
    "# Display the content of DataFrame\n",
    "dfCustomers.show()\n",
    "\n",
    "# Print the DF schema\n",
    "dfCustomers.printSchema()\n",
    "\n",
    "# Select customer name column\n",
    "dfCustomers.select(\"name\").show()\n",
    "\n",
    "# Select customer name and city columns\n",
    "dfCustomers.select(\"name\", \"city\").show()\n",
    "\n",
    "# Select a customer by id\n",
    "dfCustomers.filter(dfCustomers[\"customer_id\"] == 500).show()\n",
    "\n",
    "# Count the customers by zip code\n",
    "dfCustomers.groupBy(\"zip_code\").count().show()"
   ]
  }
 ],
 "metadata": {
  "kernelspec": {
   "display_name": "base",
   "language": "python",
   "name": "python3"
  },
  "language_info": {
   "codemirror_mode": {
    "name": "ipython",
    "version": 3
   },
   "file_extension": ".py",
   "mimetype": "text/x-python",
   "name": "python",
   "nbconvert_exporter": "python",
   "pygments_lexer": "ipython3",
   "version": "3.10.9"
  },
  "orig_nbformat": 4
 },
 "nbformat": 4,
 "nbformat_minor": 2
}
